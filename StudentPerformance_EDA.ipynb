{
 "cells": [
  {
   "cell_type": "markdown",
   "id": "989c2153-3c6c-402a-a4d3-6041a6cf70f0",
   "metadata": {},
   "source": [
    "# 📘 Student Performance - Exploratory Data Analysis (EDA)\n",
    "\n",
    "In this notebook, we'll analyze the student performance dataset to understand how gender, parental education, and other factors affect scores in math, reading, and writing.\n",
    "\n"
   ]
  },
  {
   "cell_type": "code",
   "execution_count": 4,
   "id": "0c97f2c3-ea1d-4f07-ad5c-cfbab733025b",
   "metadata": {},
   "outputs": [
    {
     "name": "stdout",
     "output_type": "stream",
     "text": [
      "0    72.666667\n",
      "1    82.333333\n",
      "2    92.666667\n",
      "3    49.333333\n",
      "4    76.333333\n",
      "5    77.333333\n",
      "6    63.333333\n",
      "7    87.666667\n",
      "8    60.333333\n",
      "9    45.000000\n",
      "Name: total, dtype: float64\n"
     ]
    }
   ],
   "source": [
    "import pandas as pd\n",
    "\n",
    "import pandas as pd\n",
    "\n",
    "df = pd.read_csv(\"clean_performance_data.csv\")\n",
    "\n",
    "df.head()\n",
    "df.shape\n",
    "df.columns\n",
    "df.isnull().sum()\n",
    "\n",
    "\n",
    "\n",
    "\n",
    "\n",
    "df[\"math score\"].fillna(df[\"math score\"].mean())\n",
    "\n",
    "df[\"reading score\"].fillna(df[\"reading score\"].mean())\n",
    "df[\"writing score\"].fillna(df[\"writing score\"].mean())\n",
    "\n",
    "df[\"total\"] = df[\"math score\"] + df[\"reading score\"] + df[\"writing score\"]\n",
    "df[\"avg\"] = df[\"total\"] / 3\n",
    "\n",
    "\n"
   ]
  },
  {
   "cell_type": "code",
   "execution_count": 5,
   "id": "4ab159e0-bf52-45e6-ba16-1e3755b4efdd",
   "metadata": {},
   "outputs": [
    {
     "name": "stdout",
     "output_type": "stream",
     "text": [
      "        math score  reading score  writing score        avg\n",
      "gender                                                     \n",
      "female        71.4           73.8           74.0  73.066667\n",
      "male          63.0           74.2           67.8  68.333333\n"
     ]
    }
   ],
   "source": [
    "print(df.groupby(\"gender\")[[\"math score\", \"reading score\", \"writing score\", \"avg\"]].mean()\n",
    "     )"
   ]
  },
  {
   "cell_type": "markdown",
   "id": "8cfbea3d-03b5-44f1-a7e0-702efc6a02c9",
   "metadata": {},
   "source": [
    "**Insight**: Female students score higher in reading and writing, males slightly higher in math.\n",
    "\n"
   ]
  },
  {
   "cell_type": "code",
   "execution_count": 6,
   "id": "7de5b8b8-b318-4b5c-ad7d-edab319e85c9",
   "metadata": {},
   "outputs": [
    {
     "data": {
      "image/png": "[encoded data removed]",
      "text/plain": [
       "<Figure size 640x480 with 1 Axes>"
      ]
     },
     "metadata": {},
     "output_type": "display_data"
    }
   ],
   "source": [
    "import matplotlib.pyplot as plt\n",
    "import seaborn as sns\n",
    "\n",
    "sns.barplot(x=\"gender\", y=\"avg\", data=df)\n",
    "plt.title(\"Average Score by Gender\")\n",
    "plt.show()\n"
   ]
  },
  {
   "cell_type": "markdown",
   "id": "05fa5f1d-8572-4db6-ba92-f6ed1d9eb693",
   "metadata": {},
   "source": [
    "## 🔍 Insights\n",
    "\n",
    "- Students from group C performed highest on average.\n",
    "- Females scored higher in reading and writing.\n",
    "- Math scores are less correlated with reading than writing is.\n",
    "\n"
   ]
  },
  {
   "cell_type": "code",
   "execution_count": 7,
   "id": "13d546e8-3d4c-4276-80f0-455f59344688",
   "metadata": {},
   "outputs": [],
   "source": [
    "df.to_csv(\"student_performance_final.csv\", index=False)\n"
   ]
  },
  {
   "cell_type": "code",
   "execution_count": 9,
   "id": "e5fb33db-db59-45ef-b867-df4d8ddb51b2",
   "metadata": {},
   "outputs": [
    {
     "data": {
      "text/html": [
       "<div>\n",
       "<style scoped>\n",
       "    .dataframe tbody tr th:only-of-type {\n",
       "        vertical-align: middle;\n",
       "    }\n",
       "\n",
       "    .dataframe tbody tr th {\n",
       "        vertical-align: top;\n",
       "    }\n",
       "\n",
       "    .dataframe thead th {\n",
       "        text-align: right;\n",
       "    }\n",
       "</style>\n",
       "<table border=\"1\" class=\"dataframe\">\n",
       "  <thead>\n",
       "    <tr style=\"text-align: right;\">\n",
       "      <th></th>\n",
       "      <th>Unnamed: 0</th>\n",
       "      <th>gender</th>\n",
       "      <th>race/ethnicity</th>\n",
       "      <th>parental level of education</th>\n",
       "      <th>math score</th>\n",
       "      <th>reading score</th>\n",
       "      <th>writing score</th>\n",
       "      <th>total</th>\n",
       "      <th>avg</th>\n",
       "    </tr>\n",
       "  </thead>\n",
       "  <tbody>\n",
       "    <tr>\n",
       "      <th>2</th>\n",
       "      <td>2</td>\n",
       "      <td>female</td>\n",
       "      <td>group B</td>\n",
       "      <td>master's degree</td>\n",
       "      <td>90</td>\n",
       "      <td>95</td>\n",
       "      <td>93</td>\n",
       "      <td>278</td>\n",
       "      <td>92.666667</td>\n",
       "    </tr>\n",
       "    <tr>\n",
       "      <th>7</th>\n",
       "      <td>7</td>\n",
       "      <td>male</td>\n",
       "      <td>group C</td>\n",
       "      <td>bachelor's degree</td>\n",
       "      <td>88</td>\n",
       "      <td>89</td>\n",
       "      <td>86</td>\n",
       "      <td>263</td>\n",
       "      <td>87.666667</td>\n",
       "    </tr>\n",
       "    <tr>\n",
       "      <th>1</th>\n",
       "      <td>1</td>\n",
       "      <td>male</td>\n",
       "      <td>group C</td>\n",
       "      <td>some college</td>\n",
       "      <td>69</td>\n",
       "      <td>90</td>\n",
       "      <td>88</td>\n",
       "      <td>247</td>\n",
       "      <td>82.333333</td>\n",
       "    </tr>\n",
       "    <tr>\n",
       "      <th>5</th>\n",
       "      <td>5</td>\n",
       "      <td>male</td>\n",
       "      <td>group B</td>\n",
       "      <td>associate's degree</td>\n",
       "      <td>71</td>\n",
       "      <td>83</td>\n",
       "      <td>78</td>\n",
       "      <td>232</td>\n",
       "      <td>77.333333</td>\n",
       "    </tr>\n",
       "    <tr>\n",
       "      <th>4</th>\n",
       "      <td>4</td>\n",
       "      <td>female</td>\n",
       "      <td>group C</td>\n",
       "      <td>some college</td>\n",
       "      <td>76</td>\n",
       "      <td>78</td>\n",
       "      <td>75</td>\n",
       "      <td>229</td>\n",
       "      <td>76.333333</td>\n",
       "    </tr>\n",
       "  </tbody>\n",
       "</table>\n",
       "</div>"
      ],
      "text/plain": [
       "   Unnamed: 0  gender race/ethnicity parental level of education  math score  \\\n",
       "2           2  female        group B             master's degree          90   \n",
       "7           7    male        group C           bachelor's degree          88   \n",
       "1           1    male        group C                some college          69   \n",
       "5           5    male        group B          associate's degree          71   \n",
       "4           4  female        group C                some college          76   \n",
       "\n",
       "   reading score  writing score  total        avg  \n",
       "2             95             93    278  92.666667  \n",
       "7             89             86    263  87.666667  \n",
       "1             90             88    247  82.333333  \n",
       "5             83             78    232  77.333333  \n",
       "4             78             75    229  76.333333  "
      ]
     },
     "execution_count": 9,
     "metadata": {},
     "output_type": "execute_result"
    }
   ],
   "source": [
    "df.sort_values(by=\"avg\", ascending=False).head(5)\n"
   ]
  },
  {
   "cell_type": "code",
   "execution_count": null,
   "id": "94500859-178f-4673-88d4-70358ed8c46a",
   "metadata": {},
   "outputs": [],
   "source": []
  }
 ],
 "metadata": {
  "kernelspec": {
   "display_name": "Python 3 (ipykernel)",
   "language": "python",
   "name": "python3"
  },
  "language_info": {
   "codemirror_mode": {
    "name": "ipython",
    "version": 3
   },
   "file_extension": ".py",
   "mimetype": "text/x-python",
   "name": "python",
   "nbconvert_exporter": "python",
   "pygments_lexer": "ipython3",
   "version": "3.12.3"
  }
 },
 "nbformat": 4,
 "nbformat_minor": 5
}
